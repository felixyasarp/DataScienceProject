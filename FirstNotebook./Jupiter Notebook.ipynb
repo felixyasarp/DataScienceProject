{
    "cells": [
        {
            "cell_type": "markdown",
            "metadata": {
                "collapsed": true
            },
            "source": "<h1>My Jupyter Notebook on IBM Data Science Experience</h1>"
        },
        {
            "cell_type": "markdown",
            "metadata": {},
            "source": "<b>Prakash Yasarp<b>"
        },
        {
            "cell_type": "markdown",
            "metadata": {},
            "source": "Web Developer"
        },
        {
            "cell_type": "markdown",
            "metadata": {},
            "source": "*I am interested in Data Science because it is currently the future of technology. Working with data and creating predictive models for problems is really interesting.*"
        },
        {
            "cell_type": "markdown",
            "metadata": {},
            "source": "<h3>Adding two numbers</h3>"
        },
        {
            "cell_type": "code",
            "execution_count": 3,
            "metadata": {},
            "outputs": [
                {
                    "data": {
                        "text/plain": "2"
                    },
                    "execution_count": 3,
                    "metadata": {},
                    "output_type": "execute_result"
                }
            ],
            "source": "1+1"
        },
        {
            "cell_type": "markdown",
            "metadata": {},
            "source": "<ol>\n<li>First item</li>\n<li>Second item</li>\n<li>Third item</li>\n<li>Fourth item</li>\n</ol>\n\nMy favorite search engine is [Duck Duck Go](https://google.com).\n\n| Sr.      | Description |\n| ----------- | ----------- |\n| One      | Number       |\n| Two   | Data        |"
        },
        {
            "cell_type": "code",
            "execution_count": null,
            "metadata": {},
            "outputs": [],
            "source": ""
        }
    ],
    "metadata": {
        "kernelspec": {
            "display_name": "Python 3.6",
            "language": "python",
            "name": "python3"
        },
        "language_info": {
            "codemirror_mode": {
                "name": "ipython",
                "version": 3
            },
            "file_extension": ".py",
            "mimetype": "text/x-python",
            "name": "python",
            "nbconvert_exporter": "python",
            "pygments_lexer": "ipython3",
            "version": "3.6.9"
        }
    },
    "nbformat": 4,
    "nbformat_minor": 1
}